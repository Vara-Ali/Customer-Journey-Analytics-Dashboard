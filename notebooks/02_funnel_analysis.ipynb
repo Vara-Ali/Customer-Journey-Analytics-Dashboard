{
 "cells": [
  {
   "cell_type": "markdown",
   "id": "d03f35e2",
   "metadata": {},
   "source": [
    "### Loading Cleaned Data"
   ]
  },
  {
   "cell_type": "code",
   "execution_count": 1,
   "id": "b6974544",
   "metadata": {},
   "outputs": [],
   "source": [
    "import pandas as pd\n",
    "\n",
    "# Load cleaned data\n",
    "df = pd.read_csv('../data/cleaned_events.csv')\n",
    "\n",
    "# Convert to datetime again (safe step)\n",
    "df['event_time'] = pd.to_datetime(df['event_time'])\n"
   ]
  },
  {
   "cell_type": "markdown",
   "id": "9715494a",
   "metadata": {},
   "source": [
    "### Defining Funnel Stages"
   ]
  },
  {
   "cell_type": "code",
   "execution_count": 2,
   "id": "6a83265b",
   "metadata": {},
   "outputs": [
    {
     "data": {
      "text/plain": [
       "event_type\n",
       "view        63554512\n",
       "cart         2930008\n",
       "purchase      916930\n",
       "Name: count, dtype: int64"
      ]
     },
     "execution_count": 2,
     "metadata": {},
     "output_type": "execute_result"
    }
   ],
   "source": [
    "# Check available event types\n",
    "df['event_type'].value_counts()"
   ]
  },
  {
   "cell_type": "code",
   "execution_count": 3,
   "id": "f1a46a84",
   "metadata": {},
   "outputs": [],
   "source": [
    "funnel_order = ['view', 'cart', 'purchase']\n"
   ]
  },
  {
   "cell_type": "markdown",
   "id": "cb96cd22",
   "metadata": {},
   "source": [
    "### Creating Funnel Presence Flags"
   ]
  },
  {
   "cell_type": "code",
   "execution_count": 6,
   "id": "33718f48",
   "metadata": {},
   "outputs": [
    {
     "data": {
      "text/html": [
       "<div>\n",
       "<style scoped>\n",
       "    .dataframe tbody tr th:only-of-type {\n",
       "        vertical-align: middle;\n",
       "    }\n",
       "\n",
       "    .dataframe tbody tr th {\n",
       "        vertical-align: top;\n",
       "    }\n",
       "\n",
       "    .dataframe thead th {\n",
       "        text-align: right;\n",
       "    }\n",
       "</style>\n",
       "<table border=\"1\" class=\"dataframe\">\n",
       "  <thead>\n",
       "    <tr style=\"text-align: right;\">\n",
       "      <th>event_type</th>\n",
       "      <th>user_session</th>\n",
       "      <th>cart</th>\n",
       "      <th>purchase</th>\n",
       "      <th>view</th>\n",
       "    </tr>\n",
       "  </thead>\n",
       "  <tbody>\n",
       "    <tr>\n",
       "      <th>0</th>\n",
       "      <td>0000007c-adbf-4ed7-af17-d1fef9763d67</td>\n",
       "      <td>0</td>\n",
       "      <td>0</td>\n",
       "      <td>1</td>\n",
       "    </tr>\n",
       "    <tr>\n",
       "      <th>1</th>\n",
       "      <td>0000009d-1f5b-40b9-bd23-db4f3d973ae3</td>\n",
       "      <td>0</td>\n",
       "      <td>0</td>\n",
       "      <td>1</td>\n",
       "    </tr>\n",
       "    <tr>\n",
       "      <th>2</th>\n",
       "      <td>000001d5-f8f8-4e40-b8d6-224155713521</td>\n",
       "      <td>0</td>\n",
       "      <td>0</td>\n",
       "      <td>1</td>\n",
       "    </tr>\n",
       "    <tr>\n",
       "      <th>3</th>\n",
       "      <td>00000510-834a-498a-9bed-561a90c5125e</td>\n",
       "      <td>0</td>\n",
       "      <td>0</td>\n",
       "      <td>1</td>\n",
       "    </tr>\n",
       "    <tr>\n",
       "      <th>4</th>\n",
       "      <td>00000616-f016-4c01-b323-438486d9d3ee</td>\n",
       "      <td>0</td>\n",
       "      <td>0</td>\n",
       "      <td>1</td>\n",
       "    </tr>\n",
       "  </tbody>\n",
       "</table>\n",
       "</div>"
      ],
      "text/plain": [
       "event_type                          user_session  cart  purchase  view\n",
       "0           0000007c-adbf-4ed7-af17-d1fef9763d67     0         0     1\n",
       "1           0000009d-1f5b-40b9-bd23-db4f3d973ae3     0         0     1\n",
       "2           000001d5-f8f8-4e40-b8d6-224155713521     0         0     1\n",
       "3           00000510-834a-498a-9bed-561a90c5125e     0         0     1\n",
       "4           00000616-f016-4c01-b323-438486d9d3ee     0         0     1"
      ]
     },
     "execution_count": 6,
     "metadata": {},
     "output_type": "execute_result"
    }
   ],
   "source": [
    "# Create a pivot table showing what events occurred in each session\n",
    "session_event_flags = df.pivot_table(\n",
    "    index='user_session',\n",
    "    columns='event_type',\n",
    "    values='event_time',\n",
    "    aggfunc='count',\n",
    "    fill_value=0\n",
    ").astype(bool).astype(int)\n",
    "\n",
    "session_event_flags = session_event_flags.reset_index()\n",
    "session_event_flags.head()\n"
   ]
  },
  {
   "cell_type": "markdown",
   "id": "fbd44d87",
   "metadata": {},
   "source": [
    "### Defining Session Funnel Stage"
   ]
  },
  {
   "cell_type": "code",
   "execution_count": 7,
   "id": "c64a85c3",
   "metadata": {},
   "outputs": [
    {
     "data": {
      "text/plain": [
       "funnel_stage\n",
       "Viewed Only    0.86\n",
       "Carted         0.08\n",
       "Purchased      0.06\n",
       "Name: proportion, dtype: float64"
      ]
     },
     "execution_count": 7,
     "metadata": {},
     "output_type": "execute_result"
    }
   ],
   "source": [
    "def get_funnel_stage(row):\n",
    "    if row['purchase'] == 1:\n",
    "        return 'Purchased'\n",
    "    elif row['cart'] == 1:\n",
    "        return 'Carted'\n",
    "    elif row['view'] == 1:\n",
    "        return 'Viewed Only'\n",
    "    else:\n",
    "        return 'Other'\n",
    "\n",
    "session_event_flags['funnel_stage'] = session_event_flags.apply(get_funnel_stage, axis=1)\n",
    "session_event_flags['funnel_stage'].value_counts(normalize=True).round(2)\n"
   ]
  },
  {
   "cell_type": "markdown",
   "id": "c7f1c5e3",
   "metadata": {},
   "source": [
    "### Converting Funnel Metrics"
   ]
  },
  {
   "cell_type": "code",
   "execution_count": 8,
   "id": "190e9a94",
   "metadata": {},
   "outputs": [
    {
     "name": "stdout",
     "output_type": "stream",
     "text": [
      "Total Sessions: 13776050\n",
      "\n",
      "Funnel Conversion Breakdown:\n",
      "funnel_stage\n",
      "Viewed Only    11907857\n",
      "Carted          1094979\n",
      "Purchased        773214\n",
      "Name: count, dtype: int64\n",
      "\n",
      "Conversion Rate:\n",
      "5.61 %\n"
     ]
    }
   ],
   "source": [
    "total_sessions = len(session_event_flags)\n",
    "conversion_counts = session_event_flags['funnel_stage'].value_counts()\n",
    "\n",
    "print(\"Total Sessions:\", total_sessions)\n",
    "print(\"\\nFunnel Conversion Breakdown:\")\n",
    "print(conversion_counts)\n",
    "print(\"\\nConversion Rate:\")\n",
    "print(round(conversion_counts['Purchased'] / total_sessions * 100, 2), '%')\n"
   ]
  },
  {
   "cell_type": "markdown",
   "id": "d01d9f59",
   "metadata": {},
   "source": [
    "### Saving Feature Table"
   ]
  },
  {
   "cell_type": "code",
   "execution_count": 9,
   "id": "9d573598",
   "metadata": {},
   "outputs": [],
   "source": [
    "session_event_flags.to_csv('../data/session_funnel_summary.csv', index=False)\n"
   ]
  }
 ],
 "metadata": {
  "kernelspec": {
   "display_name": "venv",
   "language": "python",
   "name": "python3"
  },
  "language_info": {
   "codemirror_mode": {
    "name": "ipython",
    "version": 3
   },
   "file_extension": ".py",
   "mimetype": "text/x-python",
   "name": "python",
   "nbconvert_exporter": "python",
   "pygments_lexer": "ipython3",
   "version": "3.12.2"
  }
 },
 "nbformat": 4,
 "nbformat_minor": 5
}
